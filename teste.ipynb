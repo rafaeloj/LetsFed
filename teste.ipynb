{
 "cells": [
  {
   "cell_type": "code",
   "execution_count": 1,
   "metadata": {},
   "outputs": [],
   "source": [
    "import numpy as np\n",
    "import matplotlib.pyplot as plt\n",
    "import seaborn as sns"
   ]
  },
  {
   "cell_type": "code",
   "execution_count": 2,
   "metadata": {},
   "outputs": [
    {
     "data": {
      "text/plain": [
       "array([0, 1, 2, 3, 4, 5, 6, 7, 8, 9])"
      ]
     },
     "execution_count": 2,
     "metadata": {},
     "output_type": "execute_result"
    }
   ],
   "source": [
    "x = np.arange(0,10,1)\n",
    "x"
   ]
  },
  {
   "cell_type": "code",
   "execution_count": 3,
   "metadata": {},
   "outputs": [
    {
     "data": {
      "text/plain": [
       "array([ 4,  6,  8, 10, 12, 14, 16, 18, 20, 22])"
      ]
     },
     "execution_count": 3,
     "metadata": {},
     "output_type": "execute_result"
    }
   ],
   "source": [
    "y = x*2+4\n",
    "y"
   ]
  },
  {
   "cell_type": "code",
   "execution_count": 135,
   "metadata": {},
   "outputs": [
    {
     "data": {
      "text/plain": [
       "<Axes: >"
      ]
     },
     "execution_count": 135,
     "metadata": {},
     "output_type": "execute_result"
    },
    {
     "data": {
      "image/png": "[encoded data removed]",
      "text/plain": [
       "<Figure size 640x480 with 1 Axes>"
      ]
     },
     "metadata": {},
     "output_type": "display_data"
    }
   ],
   "source": [
    "sns.lineplot(x=x,y=y, marker='s', markerfacecolor='red')"
   ]
  },
  {
   "cell_type": "markdown",
   "metadata": {},
   "source": [
    "## Teste client config"
   ]
  },
  {
   "cell_type": "code",
   "execution_count": 2,
   "metadata": {},
   "outputs": [],
   "source": [
    "import os\n",
    "import pandas as pd"
   ]
  },
  {
   "cell_type": "code",
   "execution_count": 3,
   "metadata": {},
   "outputs": [
    {
     "data": {
      "text/plain": [
       "['c-data-8.csv',\n",
       " 'c-data-0.csv',\n",
       " 'c-data-2.csv',\n",
       " 'c-data-4.csv',\n",
       " 'c-data-5.csv',\n",
       " 'c-data-9.csv',\n",
       " 'c-data-6.csv',\n",
       " 'c-data-1.csv',\n",
       " 'c-data-7.csv']"
      ]
     },
     "execution_count": 3,
     "metadata": {},
     "output_type": "execute_result"
    }
   ],
   "source": [
    "client_files = list(filter(lambda x: 'c-data' in x, os.listdir('logs/')))\n",
    "client_files[1:]"
   ]
  },
  {
   "cell_type": "code",
   "execution_count": 4,
   "metadata": {},
   "outputs": [],
   "source": [
    "df = pd.read_csv(f'logs/{client_files[0]}')\n",
    "for cf in client_files[1:]:\n",
    "    df = pd.concat([df, pd.read_csv(f'logs/{cf}')])"
   ]
  },
  {
   "cell_type": "code",
   "execution_count": 5,
   "metadata": {},
   "outputs": [
    {
     "data": {
      "text/html": [
       "<div>\n",
       "<style scoped>\n",
       "    .dataframe tbody tr th:only-of-type {\n",
       "        vertical-align: middle;\n",
       "    }\n",
       "\n",
       "    .dataframe tbody tr th {\n",
       "        vertical-align: top;\n",
       "    }\n",
       "\n",
       "    .dataframe thead th {\n",
       "        text-align: right;\n",
       "    }\n",
       "</style>\n",
       "<table border=\"1\" class=\"dataframe\">\n",
       "  <thead>\n",
       "    <tr style=\"text-align: right;\">\n",
       "      <th></th>\n",
       "      <th>rounds</th>\n",
       "      <th>participating_state</th>\n",
       "      <th>desired_state</th>\n",
       "      <th>selected</th>\n",
       "      <th>cid</th>\n",
       "      <th>g_fit_acc</th>\n",
       "      <th>g_fit_loss</th>\n",
       "      <th>g_eval_acc</th>\n",
       "      <th>g_eval_loss</th>\n",
       "      <th>training_method</th>\n",
       "      <th>aggregation</th>\n",
       "      <th>selection</th>\n",
       "      <th>maxfl_threshold</th>\n",
       "      <th>qk</th>\n",
       "      <th>v_fit_acc</th>\n",
       "      <th>v_fit_loss</th>\n",
       "    </tr>\n",
       "  </thead>\n",
       "  <tbody>\n",
       "    <tr>\n",
       "      <th>0</th>\n",
       "      <td>1</td>\n",
       "      <td>True</td>\n",
       "      <td>True</td>\n",
       "      <td>True</td>\n",
       "      <td>3</td>\n",
       "      <td>0.34400</td>\n",
       "      <td>22.788629</td>\n",
       "      <td>0.000448</td>\n",
       "      <td>NaN</td>\n",
       "      <td>maxfl</td>\n",
       "      <td>maxfl</td>\n",
       "      <td>random</td>\n",
       "      <td>8.26756</td>\n",
       "      <td>0.0</td>\n",
       "      <td>0.090</td>\n",
       "      <td>80.472839</td>\n",
       "    </tr>\n",
       "    <tr>\n",
       "      <th>1</th>\n",
       "      <td>2</td>\n",
       "      <td>True</td>\n",
       "      <td>True</td>\n",
       "      <td>False</td>\n",
       "      <td>3</td>\n",
       "      <td>0.08625</td>\n",
       "      <td>NaN</td>\n",
       "      <td>0.000448</td>\n",
       "      <td>NaN</td>\n",
       "      <td>maxfl</td>\n",
       "      <td>maxfl</td>\n",
       "      <td>random</td>\n",
       "      <td>8.26756</td>\n",
       "      <td>NaN</td>\n",
       "      <td>0.105</td>\n",
       "      <td>NaN</td>\n",
       "    </tr>\n",
       "    <tr>\n",
       "      <th>2</th>\n",
       "      <td>3</td>\n",
       "      <td>True</td>\n",
       "      <td>True</td>\n",
       "      <td>False</td>\n",
       "      <td>3</td>\n",
       "      <td>0.08625</td>\n",
       "      <td>NaN</td>\n",
       "      <td>0.000448</td>\n",
       "      <td>NaN</td>\n",
       "      <td>maxfl</td>\n",
       "      <td>maxfl</td>\n",
       "      <td>random</td>\n",
       "      <td>8.26756</td>\n",
       "      <td>NaN</td>\n",
       "      <td>0.105</td>\n",
       "      <td>NaN</td>\n",
       "    </tr>\n",
       "    <tr>\n",
       "      <th>3</th>\n",
       "      <td>4</td>\n",
       "      <td>True</td>\n",
       "      <td>True</td>\n",
       "      <td>False</td>\n",
       "      <td>3</td>\n",
       "      <td>0.08625</td>\n",
       "      <td>NaN</td>\n",
       "      <td>0.000448</td>\n",
       "      <td>NaN</td>\n",
       "      <td>maxfl</td>\n",
       "      <td>maxfl</td>\n",
       "      <td>random</td>\n",
       "      <td>8.26756</td>\n",
       "      <td>NaN</td>\n",
       "      <td>0.105</td>\n",
       "      <td>NaN</td>\n",
       "    </tr>\n",
       "    <tr>\n",
       "      <th>4</th>\n",
       "      <td>5</td>\n",
       "      <td>True</td>\n",
       "      <td>True</td>\n",
       "      <td>False</td>\n",
       "      <td>3</td>\n",
       "      <td>0.08625</td>\n",
       "      <td>NaN</td>\n",
       "      <td>0.000448</td>\n",
       "      <td>NaN</td>\n",
       "      <td>maxfl</td>\n",
       "      <td>maxfl</td>\n",
       "      <td>random</td>\n",
       "      <td>8.26756</td>\n",
       "      <td>NaN</td>\n",
       "      <td>0.105</td>\n",
       "      <td>NaN</td>\n",
       "    </tr>\n",
       "  </tbody>\n",
       "</table>\n",
       "</div>"
      ],
      "text/plain": [
       "   rounds  participating_state  desired_state  selected  cid  g_fit_acc  \\\n",
       "0       1                 True           True      True    3    0.34400   \n",
       "1       2                 True           True     False    3    0.08625   \n",
       "2       3                 True           True     False    3    0.08625   \n",
       "3       4                 True           True     False    3    0.08625   \n",
       "4       5                 True           True     False    3    0.08625   \n",
       "\n",
       "   g_fit_loss  g_eval_acc  g_eval_loss training_method aggregation selection  \\\n",
       "0   22.788629    0.000448          NaN           maxfl       maxfl    random   \n",
       "1         NaN    0.000448          NaN           maxfl       maxfl    random   \n",
       "2         NaN    0.000448          NaN           maxfl       maxfl    random   \n",
       "3         NaN    0.000448          NaN           maxfl       maxfl    random   \n",
       "4         NaN    0.000448          NaN           maxfl       maxfl    random   \n",
       "\n",
       "   maxfl_threshold   qk  v_fit_acc  v_fit_loss  \n",
       "0          8.26756  0.0      0.090   80.472839  \n",
       "1          8.26756  NaN      0.105         NaN  \n",
       "2          8.26756  NaN      0.105         NaN  \n",
       "3          8.26756  NaN      0.105         NaN  \n",
       "4          8.26756  NaN      0.105         NaN  "
      ]
     },
     "execution_count": 5,
     "metadata": {},
     "output_type": "execute_result"
    }
   ],
   "source": [
    "df.head()"
   ]
  },
  {
   "cell_type": "code",
   "execution_count": 6,
   "metadata": {},
   "outputs": [],
   "source": [
    "import seaborn as sns"
   ]
  },
  {
   "cell_type": "code",
   "execution_count": 7,
   "metadata": {},
   "outputs": [
    {
     "data": {
      "text/plain": [
       "<Axes: xlabel='rounds', ylabel='g_eval_acc'>"
      ]
     },
     "execution_count": 7,
     "metadata": {},
     "output_type": "execute_result"
    },
    {
     "data": {
      "image/png": "[encoded data removed]",
      "text/plain": [
       "<Figure size 640x480 with 1 Axes>"
      ]
     },
     "metadata": {},
     "output_type": "display_data"
    }
   ],
   "source": [
    "ax=sns.lineplot(data=df.loc[df['aggregation'] == 'avg'], x='rounds', y='g_eval_acc', color='green')\n",
    "sns.lineplot(data=df.loc[df['aggregation'] == 'maxfl'], x='rounds', y='g_eval_acc', ax=ax, color='red')"
   ]
  },
  {
   "cell_type": "code",
   "execution_count": 8,
   "metadata": {},
   "outputs": [],
   "source": [
    "df = pd.read_csv('logs/s-data.csv')"
   ]
  },
  {
   "cell_type": "code",
   "execution_count": 9,
   "metadata": {},
   "outputs": [
    {
     "data": {
      "text/html": [
       "<div>\n",
       "<style scoped>\n",
       "    .dataframe tbody tr th:only-of-type {\n",
       "        vertical-align: middle;\n",
       "    }\n",
       "\n",
       "    .dataframe tbody tr th {\n",
       "        vertical-align: top;\n",
       "    }\n",
       "\n",
       "    .dataframe thead th {\n",
       "        text-align: right;\n",
       "    }\n",
       "</style>\n",
       "<table border=\"1\" class=\"dataframe\">\n",
       "  <thead>\n",
       "    <tr style=\"text-align: right;\">\n",
       "      <th></th>\n",
       "      <th>rounds</th>\n",
       "      <th>acc</th>\n",
       "      <th>loss</th>\n",
       "      <th>model_type</th>\n",
       "      <th>n_selected</th>\n",
       "      <th>selection</th>\n",
       "      <th>dataset</th>\n",
       "      <th>threshold</th>\n",
       "      <th>init_clients</th>\n",
       "      <th>participating_state</th>\n",
       "      <th>number_of_participating</th>\n",
       "      <th>number_of_non_participating</th>\n",
       "      <th>training_method</th>\n",
       "      <th>aggregation</th>\n",
       "      <th>qk_s</th>\n",
       "    </tr>\n",
       "  </thead>\n",
       "  <tbody>\n",
       "    <tr>\n",
       "      <th>0</th>\n",
       "      <td>1</td>\n",
       "      <td>0.057665</td>\n",
       "      <td>NaN</td>\n",
       "      <td>dnn</td>\n",
       "      <td>10</td>\n",
       "      <td>random</td>\n",
       "      <td>mnist</td>\n",
       "      <td>1.0</td>\n",
       "      <td>0.3</td>\n",
       "      <td>[True;True;True;True;True;True;True;True;True;...</td>\n",
       "      <td>10</td>\n",
       "      <td>0</td>\n",
       "      <td>maxfl</td>\n",
       "      <td>maxfl</td>\n",
       "      <td>0.0</td>\n",
       "    </tr>\n",
       "    <tr>\n",
       "      <th>1</th>\n",
       "      <td>2</td>\n",
       "      <td>0.057665</td>\n",
       "      <td>NaN</td>\n",
       "      <td>dnn</td>\n",
       "      <td>3</td>\n",
       "      <td>random</td>\n",
       "      <td>mnist</td>\n",
       "      <td>1.0</td>\n",
       "      <td>0.3</td>\n",
       "      <td>[True;True;True;True;True;True;True;True;True;...</td>\n",
       "      <td>10</td>\n",
       "      <td>0</td>\n",
       "      <td>maxfl</td>\n",
       "      <td>maxfl</td>\n",
       "      <td>NaN</td>\n",
       "    </tr>\n",
       "    <tr>\n",
       "      <th>2</th>\n",
       "      <td>3</td>\n",
       "      <td>0.057665</td>\n",
       "      <td>NaN</td>\n",
       "      <td>dnn</td>\n",
       "      <td>3</td>\n",
       "      <td>random</td>\n",
       "      <td>mnist</td>\n",
       "      <td>1.0</td>\n",
       "      <td>0.3</td>\n",
       "      <td>[True;True;True;True;True;True;True;True;True;...</td>\n",
       "      <td>10</td>\n",
       "      <td>0</td>\n",
       "      <td>maxfl</td>\n",
       "      <td>maxfl</td>\n",
       "      <td>NaN</td>\n",
       "    </tr>\n",
       "    <tr>\n",
       "      <th>3</th>\n",
       "      <td>4</td>\n",
       "      <td>0.057665</td>\n",
       "      <td>NaN</td>\n",
       "      <td>dnn</td>\n",
       "      <td>3</td>\n",
       "      <td>random</td>\n",
       "      <td>mnist</td>\n",
       "      <td>1.0</td>\n",
       "      <td>0.3</td>\n",
       "      <td>[True;True;True;True;True;True;True;True;True;...</td>\n",
       "      <td>10</td>\n",
       "      <td>0</td>\n",
       "      <td>maxfl</td>\n",
       "      <td>maxfl</td>\n",
       "      <td>NaN</td>\n",
       "    </tr>\n",
       "    <tr>\n",
       "      <th>4</th>\n",
       "      <td>5</td>\n",
       "      <td>0.057665</td>\n",
       "      <td>NaN</td>\n",
       "      <td>dnn</td>\n",
       "      <td>3</td>\n",
       "      <td>random</td>\n",
       "      <td>mnist</td>\n",
       "      <td>1.0</td>\n",
       "      <td>0.3</td>\n",
       "      <td>[True;True;True;True;True;True;True;True;True;...</td>\n",
       "      <td>10</td>\n",
       "      <td>0</td>\n",
       "      <td>maxfl</td>\n",
       "      <td>maxfl</td>\n",
       "      <td>NaN</td>\n",
       "    </tr>\n",
       "  </tbody>\n",
       "</table>\n",
       "</div>"
      ],
      "text/plain": [
       "   rounds       acc  loss model_type  n_selected selection dataset  threshold  \\\n",
       "0       1  0.057665   NaN        dnn          10    random   mnist        1.0   \n",
       "1       2  0.057665   NaN        dnn           3    random   mnist        1.0   \n",
       "2       3  0.057665   NaN        dnn           3    random   mnist        1.0   \n",
       "3       4  0.057665   NaN        dnn           3    random   mnist        1.0   \n",
       "4       5  0.057665   NaN        dnn           3    random   mnist        1.0   \n",
       "\n",
       "   init_clients                                participating_state  \\\n",
       "0           0.3  [True;True;True;True;True;True;True;True;True;...   \n",
       "1           0.3  [True;True;True;True;True;True;True;True;True;...   \n",
       "2           0.3  [True;True;True;True;True;True;True;True;True;...   \n",
       "3           0.3  [True;True;True;True;True;True;True;True;True;...   \n",
       "4           0.3  [True;True;True;True;True;True;True;True;True;...   \n",
       "\n",
       "   number_of_participating  number_of_non_participating training_method  \\\n",
       "0                       10                            0           maxfl   \n",
       "1                       10                            0           maxfl   \n",
       "2                       10                            0           maxfl   \n",
       "3                       10                            0           maxfl   \n",
       "4                       10                            0           maxfl   \n",
       "\n",
       "  aggregation  qk_s  \n",
       "0       maxfl   0.0  \n",
       "1       maxfl   NaN  \n",
       "2       maxfl   NaN  \n",
       "3       maxfl   NaN  \n",
       "4       maxfl   NaN  "
      ]
     },
     "execution_count": 9,
     "metadata": {},
     "output_type": "execute_result"
    }
   ],
   "source": [
    "df.head()"
   ]
  },
  {
   "cell_type": "code",
   "execution_count": 10,
   "metadata": {},
   "outputs": [
    {
     "data": {
      "text/plain": [
       "<Axes: xlabel='rounds', ylabel='acc'>"
      ]
     },
     "execution_count": 10,
     "metadata": {},
     "output_type": "execute_result"
    },
    {
     "data": {
      "image/png": "[encoded data removed]",
      "text/plain": [
       "<Figure size 640x480 with 1 Axes>"
      ]
     },
     "metadata": {},
     "output_type": "display_data"
    }
   ],
   "source": [
    "ax=sns.lineplot(data=df.loc[df['aggregation'] == 'avg'], x='rounds', y='acc')\n",
    "sns.lineplot(data=df.loc[df['aggregation'] == 'maxfl'], x='rounds', y='acc', ax=ax, color='red')"
   ]
  },
  {
   "cell_type": "code",
   "execution_count": 11,
   "metadata": {},
   "outputs": [
    {
     "name": "stderr",
     "output_type": "stream",
     "text": [
      "2024-08-28 20:22:51.325131: E external/local_xla/xla/stream_executor/cuda/cuda_fft.cc:485] Unable to register cuFFT factory: Attempting to register factory for plugin cuFFT when one has already been registered\n",
      "2024-08-28 20:22:51.339682: E external/local_xla/xla/stream_executor/cuda/cuda_dnn.cc:8454] Unable to register cuDNN factory: Attempting to register factory for plugin cuDNN when one has already been registered\n",
      "2024-08-28 20:22:51.344716: E external/local_xla/xla/stream_executor/cuda/cuda_blas.cc:1452] Unable to register cuBLAS factory: Attempting to register factory for plugin cuBLAS when one has already been registered\n",
      "2024-08-28 20:22:51.357498: I tensorflow/core/platform/cpu_feature_guard.cc:210] This TensorFlow binary is optimized to use available CPU instructions in performance-critical operations.\n",
      "To enable the following instructions: AVX2 FMA, in other operations, rebuild TensorFlow with the appropriate compiler flags.\n",
      "2024-08-28 20:22:52.094783: W tensorflow/compiler/tf2tensorrt/utils/py_utils.cc:38] TF-TRT Warning: Could not find TensorRT\n"
     ]
    }
   ],
   "source": [
    "import tensorflow as tf\n"
   ]
  },
  {
   "cell_type": "code",
   "execution_count": 12,
   "metadata": {},
   "outputs": [
    {
     "name": "stdout",
     "output_type": "stream",
     "text": [
      "6.0\n"
     ]
    },
    {
     "name": "stderr",
     "output_type": "stream",
     "text": [
      "2024-08-28 20:22:52.608521: E external/local_xla/xla/stream_executor/cuda/cuda_driver.cc:266] failed call to cuInit: CUDA_ERROR_COMPAT_NOT_SUPPORTED_ON_DEVICE: forward compatibility was attempted on non supported HW\n",
      "2024-08-28 20:22:52.608549: I external/local_xla/xla/stream_executor/cuda/cuda_diagnostics.cc:135] retrieving CUDA diagnostic information for host: pop-os\n",
      "2024-08-28 20:22:52.608555: I external/local_xla/xla/stream_executor/cuda/cuda_diagnostics.cc:142] hostname: pop-os\n",
      "2024-08-28 20:22:52.608704: I external/local_xla/xla/stream_executor/cuda/cuda_diagnostics.cc:166] libcuda reported version is: 555.58.2\n",
      "2024-08-28 20:22:52.608726: I external/local_xla/xla/stream_executor/cuda/cuda_diagnostics.cc:170] kernel reported version is: NOT_FOUND: could not find kernel module information in driver version file contents: \"NVRM version: NVIDIA UNIX Open Kernel Module for x86_64  550.90.07  Release Build  (ozymandias@pop-os)  sex 21 jun 2024 08:36:49 -03\n",
      "GCC version:  gcc version 12.3.0 (Ubuntu 12.3.0-1ubuntu1~22.04) \n",
      "\"\n"
     ]
    }
   ],
   "source": [
    "x = tf.constant(3.0)\n",
    "with tf.GradientTape() as g:\n",
    "  g.watch(x)\n",
    "  y = x * x\n",
    "dy_dx = g.gradient(y, x)\n",
    "print(dy_dx.numpy())"
   ]
  },
  {
   "cell_type": "code",
   "execution_count": null,
   "metadata": {},
   "outputs": [],
   "source": []
  },
  {
   "cell_type": "code",
   "execution_count": null,
   "metadata": {},
   "outputs": [],
   "source": []
  },
  {
   "cell_type": "code",
   "execution_count": null,
   "metadata": {},
   "outputs": [],
   "source": []
  },
  {
   "cell_type": "code",
   "execution_count": null,
   "metadata": {},
   "outputs": [],
   "source": []
  }
 ],
 "metadata": {
  "kernelspec": {
   "display_name": "Python 3",
   "language": "python",
   "name": "python3"
  },
  "language_info": {
   "codemirror_mode": {
    "name": "ipython",
    "version": 3
   },
   "file_extension": ".py",
   "mimetype": "text/x-python",
   "name": "python",
   "nbconvert_exporter": "python",
   "pygments_lexer": "ipython3",
   "version": "3.10.12"
  }
 },
 "nbformat": 4,
 "nbformat_minor": 2
}
