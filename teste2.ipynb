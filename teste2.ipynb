{
 "cells": [
  {
   "cell_type": "markdown",
   "metadata": {},
   "source": []
  },
  {
   "cell_type": "code",
   "execution_count": 23,
   "metadata": {},
   "outputs": [],
   "source": [
    "from flwr_datasets.partitioner import DirichletPartitioner, IidPartitioner\n",
    "from flwr_datasets.federated_dataset import FederatedDataset\n"
   ]
  },
  {
   "cell_type": "code",
   "execution_count": 21,
   "metadata": {},
   "outputs": [
    {
     "data": {
      "text/plain": [
       "Dataset({\n",
       "    features: ['image', 'label'],\n",
       "    num_rows: 482\n",
       "})"
      ]
     },
     "execution_count": 21,
     "metadata": {},
     "output_type": "execute_result"
    }
   ],
   "source": [
    "partitioner = DirichletPartitioner(\n",
    "    num_partitions=50,\n",
    "    partition_by=\"label\",\n",
    "    alpha=0.1,\n",
    "    min_partition_size=50,\n",
    "    self_balancing=False\n",
    ")\n",
    "fds = FederatedDataset(dataset='mnist', partitioners={\"train\": partitioner}, )\n",
    "# partitioner.is_dataset_assigned()\n",
    "fds.load_partition(43)\n"
   ]
  }
 ],
 "metadata": {
  "kernelspec": {
   "display_name": "Python 3",
   "language": "python",
   "name": "python3"
  },
  "language_info": {
   "codemirror_mode": {
    "name": "ipython",
    "version": 3
   },
   "file_extension": ".py",
   "mimetype": "text/x-python",
   "name": "python",
   "nbconvert_exporter": "python",
   "pygments_lexer": "ipython3",
   "version": "3.10.12"
  }
 },
 "nbformat": 4,
 "nbformat_minor": 2
}
